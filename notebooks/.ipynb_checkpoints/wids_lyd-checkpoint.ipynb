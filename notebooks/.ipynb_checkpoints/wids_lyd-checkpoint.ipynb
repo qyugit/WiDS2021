{
 "cells": [
  {
   "cell_type": "code",
   "execution_count": 2,
   "id": "improved-responsibility",
   "metadata": {},
   "outputs": [
    {
     "name": "stdout",
     "output_type": "stream",
     "text": [
      "The autoreload extension is already loaded. To reload it, use:\n",
      "  %reload_ext autoreload\n"
     ]
    }
   ],
   "source": [
    "%load_ext autoreload\n",
    "%autoreload 2"
   ]
  },
  {
   "cell_type": "code",
   "execution_count": 5,
   "id": "metric-apache",
   "metadata": {},
   "outputs": [],
   "source": [
    "# Import packages\n",
    "import os\n",
    "import sys\n",
    "import numpy as np\n",
    "import pandas as pd\n",
    "import tensorflow as tf\n",
    "\n",
    "utils = os.path.abspath(os.path.join('..'))\n",
    "if utils not in sys.path:\n",
    "    sys.path.append(utils)\n",
    "\n",
    "from utils.data_manager import DataManager\n",
    "from typing import Dict"
   ]
  },
  {
   "cell_type": "markdown",
   "id": "gorgeous-uganda",
   "metadata": {},
   "source": [
    "# 1 Load Data"
   ]
  },
  {
   "cell_type": "code",
   "execution_count": 6,
   "id": "located-discovery",
   "metadata": {},
   "outputs": [],
   "source": [
    "data_manager = DataManager(\"../data/\")"
   ]
  },
  {
   "cell_type": "code",
   "execution_count": 7,
   "id": "unable-exhaust",
   "metadata": {},
   "outputs": [],
   "source": [
    "train_raw, test_raw = data_manager.LoadRawData()"
   ]
  },
  {
   "cell_type": "code",
   "execution_count": 49,
   "id": "registered-specification",
   "metadata": {},
   "outputs": [
    {
     "data": {
      "text/plain": [
       "True"
      ]
     },
     "execution_count": 49,
     "metadata": {},
     "output_type": "execute_result"
    }
   ],
   "source": [
    "pd.isna(test_raw[\"h1_arterial_po2_min\"][1])"
   ]
  },
  {
   "cell_type": "code",
   "execution_count": 54,
   "id": "orange-estimate",
   "metadata": {},
   "outputs": [
    {
     "data": {
      "text/plain": [
       "0        True\n",
       "1        True\n",
       "2        True\n",
       "3        True\n",
       "4        True\n",
       "         ... \n",
       "10229    True\n",
       "10230    True\n",
       "10231    True\n",
       "10232    True\n",
       "10233    True\n",
       "Name: h1_arterial_po2_min, Length: 10234, dtype: bool"
      ]
     },
     "execution_count": 54,
     "metadata": {},
     "output_type": "execute_result"
    }
   ],
   "source": [
    "test_raw[\"h1_arterial_po2_min\"].apply(lambda x: pd.isna(x))"
   ]
  },
  {
   "cell_type": "code",
   "execution_count": null,
   "id": "primary-plant",
   "metadata": {},
   "outputs": [],
   "source": [
    "test_raw[\"h1_arterial_po2_min\"]"
   ]
  }
 ],
 "metadata": {
  "kernelspec": {
   "display_name": "Python 3",
   "language": "python",
   "name": "python3"
  },
  "language_info": {
   "codemirror_mode": {
    "name": "ipython",
    "version": 3
   },
   "file_extension": ".py",
   "mimetype": "text/x-python",
   "name": "python",
   "nbconvert_exporter": "python",
   "pygments_lexer": "ipython3",
   "version": "3.8.2"
  }
 },
 "nbformat": 4,
 "nbformat_minor": 5
}
